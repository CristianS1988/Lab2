{
 "cells": [
  {
   "cell_type": "markdown",
   "id": "b6136c08",
   "metadata": {},
   "source": [
    "### 1. Haga un programa en Python que reciba de par´ametro un nu´mero de segundos y que despliegue en pantalla, las horas, minutos y segundos que representan. Por ejemplo:Si el nu´mero de segundos recibidos fuera: 2743 entonces su programa deber´ıa desplegar:Horas: 0, Minutos: 45 , Segundos: 43Si el nu´mero de segundos recibidos fuera 5871: Horas: 1, Minutos: 37 , Segundos: 51"
   ]
  },
  {
   "cell_type": "code",
   "execution_count": 1,
   "id": "6baef220",
   "metadata": {},
   "outputs": [
    {
     "name": "stdout",
     "output_type": "stream",
     "text": [
      "horas: 0, Minutos: 45, Segundos: 43\n",
      "horas: 1, Minutos: 37, Segundos: 51\n",
      "por favor, ingrese un número válido de segundos.\n"
     ]
    }
   ],
   "source": [
    "def convertir_segundos(segundos):\n",
    "    try:\n",
    "        #  convertir los segundos a horas, minutos y segundos\n",
    "        horas = segundos // 3600\n",
    "        minutos = (segundos % 3600)// 60\n",
    "        segundos = (segundos % 3600)% 60\n",
    "        \n",
    "        #  imprimir los resultados\n",
    "        print(f\"horas: {horas}, Minutos: {minutos}, Segundos: {segundos}\")\n",
    "    except TypeError:\n",
    "        print(\"por favor, ingrese un número válido de segundos.\")\n",
    "        \n",
    "# Uso\n",
    "convertir_segundos(2743) #  horas: 0, Minutos: 45 , Segundos: 43\n",
    "convertir_segundos(5871) # Horas: 1, Minutos 37 , Segundos: 53\n",
    "convertir_segundos(\"hola\") #  Por favor, ingrese n número válido de segundos."
   ]
  },
  {
   "cell_type": "markdown",
   "id": "80241100",
   "metadata": {},
   "source": [
    "### Haga una funci´on en Python que dado un nu´mero entre 1 y 20. Y un car´acter cualquieradespliegue cuatro patrones triangulares.Por ejemplo si el usuario ingresara el nu´mero 4 y el s´ımbolo * el programa deber´a desplegarlo siguiente:"
   ]
  },
  {
   "cell_type": "code",
   "execution_count": 2,
   "id": "4b5d6888",
   "metadata": {},
   "outputs": [
    {
     "name": "stdout",
     "output_type": "stream",
     "text": [
      "*\n",
      "**\n",
      "***\n",
      "****\n",
      "\n",
      "****\n",
      "***\n",
      "**\n",
      "*\n",
      "\n",
      "   *\n",
      "  **\n",
      " ***\n",
      "****\n",
      "\n",
      "****\n",
      " ***\n",
      "  **\n",
      "   *\n"
     ]
    }
   ],
   "source": [
    "def patrones_triangulares(num, caracter):\n",
    "    if num < 1 or num > 20:\n",
    "        print(\"El número debe estar entre 1 y 20.\")\n",
    "        return\n",
    "\n",
    "    # Patrón 1\n",
    "    for i in range(num):\n",
    "        for j in range(i + 1):\n",
    "            print(caracter, end=\"\")\n",
    "        print()\n",
    "\n",
    "    print()\n",
    "\n",
    "    # Patrón 2\n",
    "    for i in range(num):\n",
    "        for j in range(num - i):\n",
    "            print(caracter, end=\"\")\n",
    "        print()\n",
    "\n",
    "    print()\n",
    "\n",
    "    # Patrón 3\n",
    "    for i in range(num):\n",
    "        for j in range(num - i - 1):\n",
    "            print(\" \", end=\"\")\n",
    "        for j in range(i + 1):\n",
    "            print(caracter, end=\"\")\n",
    "        print()\n",
    "\n",
    "    print()\n",
    "\n",
    "    # Patrón 4\n",
    "    for i in range(num):\n",
    "        for j in range(i):\n",
    "            print(\" \", end=\"\")\n",
    "        for j in range(num - i):\n",
    "            print(caracter, end=\"\")\n",
    "        print()\n",
    "\n",
    "# Ejemplo de uso\n",
    "patrones_triangulares(4, \"*\")"
   ]
  },
  {
   "cell_type": "markdown",
   "id": "7262574a",
   "metadata": {},
   "source": [
    "### Haga un programa en Python que la fecha de nacimiento de una persona (puede ingresar porseparado cada valor, es decir pedir primero d´ıa, luego mes y luego an˜o), despliegue la edadde la persona en an˜os, meses y d´ıas. Su resultado puede ser aproximado."
   ]
  },
  {
   "cell_type": "code",
   "execution_count": null,
   "id": "6188fb61",
   "metadata": {},
   "outputs": [],
   "source": [
    "from datetime import date\n",
    "\n",
    "def calcular_edad():\n",
    "    try:\n",
    "        # Pedir la fecha de nacimiento al usuario\n",
    "        dia = int(input(\"Ingrese su día de nacimiento: \"))\n",
    "        mes = int(input(\"Ingrese su mes de nacimiento: \"))\n",
    "        anio = int(input(\"Ingrese su año de nacimiento: \"))\n",
    "\n",
    "        # Calcular la edad en años, meses y días\n",
    "        hoy = date.today()\n",
    "        edad_anios = hoy.year - anio\n",
    "        edad_meses = hoy.month - mes\n",
    "        edad_dias = hoy.day - dia\n",
    "\n",
    "        # Ajustar la edad en caso de que el mes o el día no hayan pasado todavía\n",
    "        if edad_meses < 0 or (edad_meses == 0 and edad_dias < 0):\n",
    "            edad_anios -= 1\n",
    "            edad_meses += 12\n",
    "        if edad_dias < 0:\n",
    "            ultimo_dia_mes_anterior = hoy.replace(day=1) - timedelta(days=1)\n",
    "            edad_dias += ultimo_dia_mes_anterior.day\n",
    "\n",
    "        # Imprimir el resultado\n",
    "        print(f\"Edad: {edad_anios} años, {edad_meses} meses, {edad_dias} días.\")\n",
    "    except ValueError:\n",
    "        print(\"Por favor, ingrese valores numéricos válidos para la fecha de nacimiento.\")\n",
    "\n",
    "# Ejemplo de uso\n",
    "calcular_edad()"
   ]
  },
  {
   "cell_type": "markdown",
   "id": "177b1580",
   "metadata": {},
   "source": [
    "### 4. Escriba una funci´on en Python que dada una tupla de elementos (nu´meros o letras) esta seconvierta a un string. Tomar nota del siguiente ejemplo:\n",
    "### Si la entrada fuera: (10, 20, 40, 5, 70)\n",
    "### La salida deber´ıa ser: 102040570"
   ]
  },
  {
   "cell_type": "code",
   "execution_count": null,
   "id": "8cf80f85",
   "metadata": {},
   "outputs": [],
   "source": [
    "def tupla_a_string(tupla):\n",
    "    cadena = ''\n",
    "    for elemento in tupla:\n",
    "        cadena += str(elemento)\n",
    "    return cadena\n",
    "\n",
    "# Ejemplo de uso\n",
    "tupla = (10, 20, 40, 5, 70)\n",
    "cadena_resultante = tupla_a_string(tupla)\n",
    "print(cadena_resultante) # Output: 102040570"
   ]
  },
  {
   "cell_type": "markdown",
   "id": "91de260a",
   "metadata": {},
   "source": [
    "### Cree un programa en Python que dada una lista de tuplas, elimine las tuplas que est´an vac´ıas.Tomar nota del siguiente ejemplo:Si la lista fuera: [(), (), (’X’,), (’a’, ’b’), (’a’, ’b’, ’c’), (’d’)]El resultado deber´ıa ser: [(’X’), (’a’, ’b’), (’a’, ’b’, ’c’), ’d’]"
   ]
  },
  {
   "cell_type": "code",
   "execution_count": null,
   "id": "155026e4",
   "metadata": {},
   "outputs": [],
   "source": [
    "def eliminar_tuplas_vacias(lista):\n",
    "    lista_filtrada = []\n",
    "    for tupla in lista:\n",
    "        if len(tupla) > 0:\n",
    "            lista_filtrada.append(tupla)\n",
    "    return lista_filtrada\n",
    "\n",
    "# Ejemplo de uso\n",
    "lista = [(), (), ('X',), ('a', 'b'), ('a', 'b', 'c'), ('d')]\n",
    "lista_filtrada = eliminar_tuplas_vacias(lista)\n",
    "print(lista_filtrada)"
   ]
  },
  {
   "cell_type": "markdown",
   "id": "b60fdd9d",
   "metadata": {},
   "source": [
    "### Cree una funci´on en Python que dada una tupla de tuplas con nu´meros, produzca una tuplacon el promedio de cada tupla individual. Tomar nota del siguiente ejemplo:Si la tupla de entrada fuera: ((10, 10, 10, 12), (30, 45, 56, 45), (81, 80, 39, 32))El resultado deber´ıa ser: (10.5, 44, 58)"
   ]
  },
  {
   "cell_type": "code",
   "execution_count": null,
   "id": "fdf8893d",
   "metadata": {},
   "outputs": [],
   "source": [
    "def promedios_por_tupla(tupla_de_tuplas):\n",
    "    promedios = []\n",
    "    for tupla in tupla_de_tuplas:\n",
    "        promedio = sum(tupla) / len(tupla)\n",
    "        promedios.append(promedio)\n",
    "    return tuple(promedios)\n",
    "\n",
    "# Ejemplo de uso\n",
    "tupla = ((10, 10, 10, 12), (30, 45, 56, 45), (81, 80, 39, 32))\n",
    "promedios = promedios_por_tupla(tupla)\n",
    "print(promedios)"
   ]
  },
  {
   "cell_type": "markdown",
   "id": "8bc3b5bb",
   "metadata": {},
   "source": [
    "### 7. Escribir un programa que gestione las facturas pendientes de cobro de una empresa. Lasfacturas se almacenar´an en un diccionario donde la llave de cada factura ser´a el nu´mero defactura (debe utilizar un numero de 4 d´ıgitos) y el valor el coste de la factura. El programadebe preguntar al usuario si quiere an˜adir una nueva factura, pagar una existente o terminar.Si desea an˜adir una nueva factura se preguntar´a por el nu´mero de factura y su coste y sean˜adir´a al diccionario, para confirmar que la factura se ingreso correctamente el programadebe desplegar el diccionario completo. Si se desea pagar una factura se preguntar´a por elnu´mero de factura y se eliminar´a del diccionario. Despu´es de cada operaci´on el programadebe mostrar en pantalla la cantidad cobrada hasta el momento y la cantidad pendiente decobro. Puede utilizar otras estructuras de datos como apoyo si lo considera necesario."
   ]
  },
  {
   "cell_type": "code",
   "execution_count": null,
   "id": "7d4223ad",
   "metadata": {},
   "outputs": [],
   "source": [
    "facturas = {}\n",
    "\n",
    "while True:\n",
    "    accion = input(\"¿Qué acción desea realizar? (anadir/pagar/terminar): \")\n",
    "\n",
    "    if accion == \"anadir\":\n",
    "        numero_factura = input(\"Ingrese el número de factura (4 dígitos): \")\n",
    "        while len(numero_factura) != 4 or not numero_factura.isdigit():\n",
    "            print(\"El número de factura debe tener 4 dígitos numéricos.\")\n",
    "            numero_factura = input(\"Ingrese el número de factura (4 dígitos): \")\n",
    "        costo = float(input(\"Ingrese el costo de la factura: \"))\n",
    "        facturas[numero_factura] = costo\n",
    "        print(\"La factura se ha añadido correctamente.\")\n",
    "        print(facturas)\n",
    "\n",
    "    elif accion == \"pagar\":\n",
    "        numero_factura = input(\"Ingrese el número de factura a pagar: \")\n",
    "        if numero_factura in facturas:\n",
    "            costo_pagado = facturas.pop(numero_factura)\n",
    "            print(f\"Se ha pagado la factura {numero_factura} por un total de ${costo_pagado:.2f}.\")\n",
    "        else:\n",
    "            print(\"No existe una factura con ese número.\")\n",
    "\n",
    "    elif accion == \"terminar\":\n",
    "        break\n",
    "\n",
    "    else:\n",
    "        print(\"La acción ingresada no es válida.\")\n",
    "\n",
    "    costo_cobrado = sum(facturas.values())\n",
    "    costo_pendiente = sum(facturas.values())\n",
    "    print(f\"Cantidad cobrada hasta el momento: ${costo_cobrado:.2f}\")\n",
    "    print(f\"Cantidad pendiente de cobro: ${costo_pendiente:.2f}\")\n",
    "\n",
    "print(\"Programa finalizado.\")"
   ]
  },
  {
   "cell_type": "markdown",
   "id": "d4764903",
   "metadata": {},
   "source": [
    "### Haga una funci´on en Python, que cree un set con todas las cartas de una baraja de Pocker utilizando el siguiente formato: Tipo-Numero. Utilice las letras T para tr´eboles, C paracorazones, P para picas y E para espadas. Para los nu´meros utilice la numeraci´on del 1 al13. Por ejemplo E13 - ser´ıa Rey de Espadas, P01 ser´ıa As de Picas, T05 ser´ıa cinco de Tr´eboles.\n",
    "### Posteriormente cree una funci´on que dado el conjunto anterior cree dos sets nuevos de cartas,cada conjunto debe tener una cantidad variable de elementos, puede utilizar nu´meros aleatorios enteros para definir la longitud de los conjuntos.\n",
    "### Adicionalmente, deber´a calcular la probabilidad de la intersecci´on de ambos conjuntos y demuestre si son eventos independientes con la regla del producto.\n",
    "### Para concluir, calcule probabilidad de la uni´on de ambos conjuntos y demuestre que se cumplela regla de la adici´on."
   ]
  },
  {
   "cell_type": "code",
   "execution_count": null,
   "id": "e7393c94",
   "metadata": {},
   "outputs": [],
   "source": [
    "import random\n",
    "\n",
    "# Función que crea la baraja\n",
    "def crear_baraja():\n",
    "    baraja = set()\n",
    "    tipos = ['T', 'C', 'P', 'E']\n",
    "    for tipo in tipos:\n",
    "        for num in range(1, 14):\n",
    "            carta = tipo + str(num).zfill(2)\n",
    "            baraja.add(carta)\n",
    "    return baraja\n",
    "\n",
    "# Función que crea dos conjuntos de cartas de longitud aleatoria\n",
    "def crear_conjuntos(baraja):\n",
    "    conjunto1 = set(random.sample(baraja, random.randint(1, len(baraja))))\n",
    "    conjunto2 = set(random.sample(baraja, random.randint(1, len(baraja))))\n",
    "    return conjunto1, conjunto2\n",
    "\n",
    "# Función que calcula la probabilidad de la intersección de dos conjuntos\n",
    "def calcular_probabilidad_interseccion(conjunto1, conjunto2):\n",
    "    interseccion = conjunto1 & conjunto2\n",
    "    probabilidad = len(interseccion) / (len(conjunto1) * len(conjunto2))\n",
    "    return probabilidad\n",
    "\n",
    "# Función que calcula la probabilidad de la unión de dos conjuntos\n",
    "def calcular_probabilidad_union(conjunto1, conjunto2):\n",
    "    union = conjunto1 | conjunto2\n",
    "    probabilidad = len(union) / (len(conjunto1) + len(conjunto2) - len(interseccion))\n",
    "    return probabilidad\n",
    "\n",
    "# Programa principal\n",
    "baraja = crear_baraja()\n",
    "conjunto1, conjunto2 = crear_conjuntos(baraja)\n",
    "print(\"Conjunto 1:\", conjunto1)\n",
    "print(\"Conjunto 2:\", conjunto2)\n",
    "probabilidad_interseccion = calcular_probabilidad_interseccion(conjunto1, conjunto2)\n",
    "probabilidad_union = calcular_probabilidad_union(conjunto1, conjunto2)\n",
    "print(\"Probabilidad de la intersección:\", probabilidad_interseccion)\n",
    "print(\"Probabilidad de la unión:\", probabilidad_union)"
   ]
  },
  {
   "cell_type": "code",
   "execution_count": null,
   "id": "82638d27",
   "metadata": {},
   "outputs": [],
   "source": []
  }
 ],
 "metadata": {
  "kernelspec": {
   "display_name": "Python 3 (ipykernel)",
   "language": "python",
   "name": "python3"
  },
  "language_info": {
   "codemirror_mode": {
    "name": "ipython",
    "version": 3
   },
   "file_extension": ".py",
   "mimetype": "text/x-python",
   "name": "python",
   "nbconvert_exporter": "python",
   "pygments_lexer": "ipython3",
   "version": "3.9.13"
  }
 },
 "nbformat": 4,
 "nbformat_minor": 5
}
